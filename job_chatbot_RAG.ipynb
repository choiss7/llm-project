{
 "cells": [
  {
   "cell_type": "markdown",
   "metadata": {},
   "source": [
    "## RAG: Retrieval Augmented Generation.\n",
    "\n",
    "- Large language models (LLMs) have a limited context size.\n",
    "- TLDR\n",
    "- Not all context is relevant to a given question\n",
    "- Query -> Search -> Results -> (LLM) -> Answer"
   ]
  },
  {
   "cell_type": "markdown",
   "metadata": {},
   "source": [
    "## Keyword VS Semantic Search \n",
    "![Vector](https://blog.dataiku.com/hs-fs/hubfs/dftt%202.webp?width=1346&height=632&name=dftt%202.webp)\n",
    "\n",
    "from https://blog.dataiku.com/semantic-search-an-overlooked-nlp-superpower"
   ]
  },
  {
   "cell_type": "markdown",
   "metadata": {},
   "source": [
    "![Emb_search](figures/emb_search.png)\n",
    "\n",
    "from https://sreent.medium.com/llms-embeddings-and-vector-search-d4bd9362df56"
   ]
  },
  {
   "cell_type": "code",
   "execution_count": 1,
   "metadata": {},
   "outputs": [],
   "source": [
    "! pip3 install -qU  markdownify  langchain-upstage rank_bm25\n",
    "! pip3 install -qU langchain_chroma"
   ]
  },
  {
   "cell_type": "code",
   "execution_count": 67,
   "metadata": {},
   "outputs": [
    {
     "name": "stdout",
     "output_type": "stream",
     "text": [
      "The dotenv extension is already loaded. To reload it, use:\n",
      "  %reload_ext dotenv\n"
     ]
    }
   ],
   "source": [
    "\n",
    "%load_ext dotenv\n",
    "%dotenv\n",
    "# UPSTAGE_API_KEY"
   ]
  },
  {
   "cell_type": "code",
   "execution_count": 68,
   "metadata": {},
   "outputs": [],
   "source": [
    "import warnings\n",
    "\n",
    "warnings.filterwarnings(\"ignore\")"
   ]
  },
  {
   "cell_type": "code",
   "execution_count": 69,
   "metadata": {},
   "outputs": [
    {
     "data": {
      "text/plain": [
       "(1, 4096)"
      ]
     },
     "execution_count": 69,
     "metadata": {},
     "output_type": "execute_result"
    }
   ],
   "source": [
    "from langchain_upstage import UpstageEmbeddings\n",
    "\n",
    "embeddings_model = UpstageEmbeddings(model=\"solar-embedding-1-large\", embed_batch_size=100)\n",
    "embeddings = embeddings_model.embed_documents(\n",
    "    [\n",
    "        \"What is the best season to visit Korea?\",\n",
    "    ])\n",
    "\n",
    "len(embeddings), len(embeddings[0])"
   ]
  },
  {
   "cell_type": "code",
   "execution_count": 70,
   "metadata": {},
   "outputs": [],
   "source": [
    "# RAG 1. load doc (done), 2. chunking, splits, 3. embeding - indexing, 4. retrieve\n"
   ]
  },
  {
   "cell_type": "code",
   "execution_count": 71,
   "metadata": {},
   "outputs": [],
   "source": [
    "from langchain_core.documents import Document"
   ]
  },
  {
   "cell_type": "code",
   "execution_count": 72,
   "metadata": {},
   "outputs": [],
   "source": [
    "import json\n",
    "question_and_answer_list = []\n",
    "with open('json/question_and_answer_data.json', encoding='utf-8') as f:\n",
    "    a = json.load(f)"
   ]
  },
  {
   "cell_type": "code",
   "execution_count": 73,
   "metadata": {},
   "outputs": [],
   "source": [
    "for k, v in a.items():\n",
    "    seq = ''\n",
    "    for i in v:\n",
    "        seq += f' {i}'\n",
    "    question_and_answer_list.append(Document(page_content=seq, metadata={\"test\": \"test\"}))    "
   ]
  },
  {
   "cell_type": "code",
   "execution_count": 74,
   "metadata": {},
   "outputs": [],
   "source": [
    "from langchain_chroma import Chroma\n",
    "\n",
    "# 3. Embed & indexing\n",
    "vectorstore = Chroma.from_documents(documents=question_and_answer_list, embedding=UpstageEmbeddings(model=\"solar-embedding-1-large\", embed_batch_size=100))"
   ]
  },
  {
   "cell_type": "markdown",
   "metadata": {},
   "source": [
    "챗봇 프롬프트 입력 "
   ]
  },
  {
   "cell_type": "code",
   "execution_count": 75,
   "metadata": {},
   "outputs": [],
   "source": [
    "import gradio as gr\n",
    "\n",
    "from langchain_upstage import ChatUpstage\n",
    "from langchain_core.prompts import ChatPromptTemplate, MessagesPlaceholder\n",
    "from langchain_core.output_parsers import StrOutputParser\n",
    "from langchain.schema import AIMessage, HumanMessage\n",
    "\n",
    "\n",
    "llm = ChatUpstage(temperature=0.8)"
   ]
  },
  {
   "cell_type": "code",
   "execution_count": 76,
   "metadata": {},
   "outputs": [
    {
     "name": "stdout",
     "output_type": "stream",
     "text": [
      "4\n",
      "[Document(page_content=\" Answer:  지금까지 학생의 성향을 기반으로 직무 추천을 몇 가지 해드리려고 합니다! Question:  네 Answer:  1차 추천 직업으로는 법률 및 사회활동 관련직으로, 변호사, 판사, 검사뿐 아니라 법에 관련된 일을 회사에서 하는 법무사, 저작권과 지식재산권에 대해서 다루는 변리사 등이 있어요! 요즘 저작권 부분이 굉장히 많이 다뤄지고 있기 때문에 여기도 미래 전망이 좋은 직종이랍니다 Question:  그렇군요! Answer:  방금 언급 드린 직종에 있어서 관심 있게 찾아본 게 있을까요? Question:  저는 법무사요 시험을 1, 2차로 모든 법 과목을 보는 거 같더라고요 Answer:  자세히 알아보았군요! 법무사, 변리사, 변호사의 경우 자격을 취득 후 대기업에서 근무하는 경우도 있으므로 꾸준히 법률과 관련되어 활동해보고 모의재판 동아리 등도 활동해보면 좋아요~ 법률 관련한 활동이나 사법기관 방문 같은 걸 해본 적 있을까요? Question:  법원에 한 번 가본 적 있어요 Answer:  그렇군요!  법원에 다녀오고 어떤 부분을 느끼고 왔는지 알 수 있을까요? Question:  세상에는 범죄가 끊이질 않는다는 것을 느꼈어요 Answer:  맞아요. 모든 직업에는 장단점이 존재하는데 특히 이 직무는 연봉이 높은 만큼 사실 그만큼의 정신력, 체력소모가 크고 스트레스가 많으며 업무시간, 업무량이 많은 편이에요.  중요한 사건을 다루기에 늘 긴장되고 마음이 무거울 수 있으므로 직업의 장단점을 잘 알아보기를 권해드립니다! Question:  네 Answer:  https://www.youtube.com/watch?v=wMWPkz0YBL8 유튜브에 워크맨이라는 채널 아시나요? Question:  네 Answer:  이 영상도 세상에 있는 다양한 직업을 직접 체험해보고 현직자들의 고충도 들어보는 내용이 아주 담겨있으니 쉽게 간접경험을 할 수 있는 매체로 유퀴즈와 함께 추천해 드릴게요! Question:  네 Answer:  법과 관련된 직종에 관련해서 본 매체물 중에 기억나는 영상이나 글 등이 있을까요? Question:  저번에 변호사 브이로그를 본 적이 있어요 Answer:  실제로 하루 생활을 봤을 때 예상했던 것과 어떤 게 다른 점이 있었을까요? Question:  엄청 힘든 직업이라는 것을 느꼈어요 적게 일하고 돈을 많이 버는 직업이라고 생각했는데 많이 일하고 많이 버는 직업이더라고요 Answer:  그렇죠! 생각보다 현실 직무자들의 이야기를 유튜브나 앱 커피 챗 등을 통해서 알아보면 생각지 못했던 부분들을 알 수 있답니다. 여기서 커피 챗은 현직 의사들의 이야기를 직접 들어볼 수 있는 어플이에요! 학생분이 법무사에게 관심이 있다면 이 직종에 일하시는 현직자 분과 직접 대화를 할 수 있어요! Question:  좋네요! Answer:  네 하하 앱 꼭 깔아서 대화해보길 추천해 드립니다 Question:  네 Answer:  그리고 2차 추천직무는 사회 서비스직으로 법원직 공무원, 법률 사무원 등이 있어요. 상대적으로 위의 직업보다 연봉은 적지만 그만큼 업무 스트레스는 덜 할 수도 있어요! 마지막으로 친구는 꼼꼼한 장점을 살리고 공익을 위해서도 충분히 잘 일을 해낼 수 있을 것 같아서 관세사, 감정평가사 등의 직업같이 공익을 위해 법과 관련된 사회서비스 직무 또한 같이 추천해 드려요~ Question:  네 Answer:  http://www.educationkorea.kr/main/main.php 여기 올려드린 교육박람회는 가능하다면 가보길 권해드려요! Question:  네! Answer:  간접경험 못지않게 직접 가서 보고 경험하는 것이 학생의 진로 관을 확장할 기회가 될 거예요 오늘 상담이 마무리되면 바로 대화 내용이 삭제되기 때문에 올려드렸던 사이트는 카톡으로 링크 복사해놓으시면 좋을 거예요! Question:  이미 해두었습니다! Answer:  네 https://www.youtube.com/watch?v=15-uVbEsMjY&list=PLQiIkCDKJ3x3fbStsBcB-J3EUvbmfXp8K 학생은 이 영상 본 적 있을까요? Question:  아니요  처음 봐요! Answer:  'don t be a lawyer 패러디'라고 장점이나 환상만 보고 전공, 직업 정한 사람들에게 재미있게 현실과 단점을 일깨워주는 영상이에요 Question:  저것도 상담 끝나고 볼게요! Answer:  60가지가 넘는 학과/직업에 대한 패러디가 있으니 한 번 재미로라도 봐도 참고가 될 거예요! 하하 Question:  네! Answer:  https://www.ggoomgil.go.kr/front/member/memberJoinAgree.do?memberType=expPlace 그리고 이 사이트는 전국에 직업 체험을 할 수 있는 사이트입니다! Question:  네! Answer:  여기는 진로 체험을 다 해볼 수 있는 곳이라서 쉽게 학생이 관심있는 직종뿐 아니라 다른 것들도 워크맨처럼 체험해볼 수 있을 거예요 Question:  네! Answer:  법학계열 이외에 또 생각해본 진로나 직업 등이 있을까요? Question:  아니요! Answer:  사회계열 이외에 관심있는 과목은 그러면 따로 없나요? Question:  국어도 좋아해요 Answer:  그렇군요! 지금 문이과가 통합되어있긴 하지만, 추후 진학을 생각했을 때는 문과 계열로 집중해서 공부할 예정이신가요? Question:  네! Answer:  친구는 진로에 대한 생각이 뚜렷해서 그에 맞는 길을 잘 준비해갈 거로 생각하지만 아까도 말씀드렸듯 요즘은 한 가지 직업만이 아닌 다양한 직업을 가지고 살아가는 때이기에 고등학교 저학년 때 여러 가지 직업도 같이 탐색해보면 좋을 것 같아요 Question:  네 제가 또 좋아하는 게 생기면 찾아볼게요 Answer:  진로 또한 진로상담, 진로 검사, 직업 탐색, 직업인 인터뷰 등 공부처럼 적극적으로 계획하고 준비해야 합답니다! 최근 만난 학생 중에서는 서울대를 나왔지만, 취업이 안 되는 학생도 있고, 지방 4년제를 나왔지만, 적극적으로 해보고 싶은 분야를 전공으로 선택해서 공모전, 자격증, 대외활동을 열심히 쌓아 대기업에 취업한 경우도 있었어요 Question:  그렇군요 Answer:  그런데 이 준비가 고등학생 때부터 미리 되어있다면 더욱이 대체 불가한 사람이 되어서 그 직렬에서 개성을 발휘할 수 있을 거예요 Question:  네 Answer:  지금 학생분은 좋아하는 직렬, 직무를 생각하고 있지만 여러가지 다른 분야도 찾아보며 이와 관련해서 교육, 강연 기회를 알아보는 것이 도움 될 거예요 하하 Question:  네 Answer:  '대학 어디가', '메이저 맵' 등의 사이트에서는 진학에 대한 정보를 얻을 수 있는 사이트들인데 이 사이트는 들어가 본 적 있을까요? Question:  아니요 Answer:  https://www.bing.com/search?q=대학어디가&cvid=945a95f0dbd04e188762642ba56b145f&aqs=edge.0.0l9.2456j0j4&FORM=ANWAB1&PC=SMTS https://www.majormap.net/ 메이저 맵 사이트는 AI 기반 맞춤형 진로 추천을 해주고 있어요! Question:  네 Answer:  학생의 특성과 장점을 잘 살려서 법률가 이외에 또 사회와 관련한 직무들을 다양하게 추천받을 수 있는 사이트니 끝나고 활용해보시길 추천해 드립니다\", metadata={'test': 'test'}), Document(page_content=\" Answer:  지금까지 학생의 성향을 기반으로 직무 추천을 몇 가지 해드리려고 합니다! Question:  네 Answer:  1차 추천 직업으로는 법률 및 사회활동 관련직으로, 변호사, 판사, 검사뿐 아니라 법에 관련된 일을 회사에서 하는 법무사, 저작권과 지식재산권에 대해서 다루는 변리사 등이 있어요! 요즘 저작권 부분이 굉장히 많이 다뤄지고 있기 때문에 여기도 미래 전망이 좋은 직종이랍니다 Question:  그렇군요! Answer:  방금 언급 드린 직종에 있어서 관심 있게 찾아본 게 있을까요? Question:  저는 법무사요 시험을 1, 2차로 모든 법 과목을 보는 거 같더라고요 Answer:  자세히 알아보았군요! 법무사, 변리사, 변호사의 경우 자격을 취득 후 대기업에서 근무하는 경우도 있으므로 꾸준히 법률과 관련되어 활동해보고 모의재판 동아리 등도 활동해보면 좋아요~ 법률 관련한 활동이나 사법기관 방문 같은 걸 해본 적 있을까요? Question:  법원에 한 번 가본 적 있어요 Answer:  그렇군요!  법원에 다녀오고 어떤 부분을 느끼고 왔는지 알 수 있을까요? Question:  세상에는 범죄가 끊이질 않는다는 것을 느꼈어요 Answer:  맞아요. 모든 직업에는 장단점이 존재하는데 특히 이 직무는 연봉이 높은 만큼 사실 그만큼의 정신력, 체력소모가 크고 스트레스가 많으며 업무시간, 업무량이 많은 편이에요.  중요한 사건을 다루기에 늘 긴장되고 마음이 무거울 수 있으므로 직업의 장단점을 잘 알아보기를 권해드립니다! Question:  네 Answer:  https://www.youtube.com/watch?v=wMWPkz0YBL8 유튜브에 워크맨이라는 채널 아시나요? Question:  네 Answer:  이 영상도 세상에 있는 다양한 직업을 직접 체험해보고 현직자들의 고충도 들어보는 내용이 아주 담겨있으니 쉽게 간접경험을 할 수 있는 매체로 유퀴즈와 함께 추천해 드릴게요! Question:  네 Answer:  법과 관련된 직종에 관련해서 본 매체물 중에 기억나는 영상이나 글 등이 있을까요? Question:  저번에 변호사 브이로그를 본 적이 있어요 Answer:  실제로 하루 생활을 봤을 때 예상했던 것과 어떤 게 다른 점이 있었을까요? Question:  엄청 힘든 직업이라는 것을 느꼈어요 적게 일하고 돈을 많이 버는 직업이라고 생각했는데 많이 일하고 많이 버는 직업이더라고요 Answer:  그렇죠! 생각보다 현실 직무자들의 이야기를 유튜브나 앱 커피 챗 등을 통해서 알아보면 생각지 못했던 부분들을 알 수 있답니다. 여기서 커피 챗은 현직 의사들의 이야기를 직접 들어볼 수 있는 어플이에요! 학생분이 법무사에게 관심이 있다면 이 직종에 일하시는 현직자 분과 직접 대화를 할 수 있어요! Question:  좋네요! Answer:  네 하하 앱 꼭 깔아서 대화해보길 추천해 드립니다 Question:  네 Answer:  그리고 2차 추천직무는 사회 서비스직으로 법원직 공무원, 법률 사무원 등이 있어요. 상대적으로 위의 직업보다 연봉은 적지만 그만큼 업무 스트레스는 덜 할 수도 있어요! 마지막으로 친구는 꼼꼼한 장점을 살리고 공익을 위해서도 충분히 잘 일을 해낼 수 있을 것 같아서 관세사, 감정평가사 등의 직업같이 공익을 위해 법과 관련된 사회서비스 직무 또한 같이 추천해 드려요~ Question:  네 Answer:  http://www.educationkorea.kr/main/main.php 여기 올려드린 교육박람회는 가능하다면 가보길 권해드려요! Question:  네! Answer:  간접경험 못지않게 직접 가서 보고 경험하는 것이 학생의 진로 관을 확장할 기회가 될 거예요 오늘 상담이 마무리되면 바로 대화 내용이 삭제되기 때문에 올려드렸던 사이트는 카톡으로 링크 복사해놓으시면 좋을 거예요! Question:  이미 해두었습니다! Answer:  네 https://www.youtube.com/watch?v=15-uVbEsMjY&list=PLQiIkCDKJ3x3fbStsBcB-J3EUvbmfXp8K 학생은 이 영상 본 적 있을까요? Question:  아니요  처음 봐요! Answer:  'don t be a lawyer 패러디'라고 장점이나 환상만 보고 전공, 직업 정한 사람들에게 재미있게 현실과 단점을 일깨워주는 영상이에요 Question:  저것도 상담 끝나고 볼게요! Answer:  60가지가 넘는 학과/직업에 대한 패러디가 있으니 한 번 재미로라도 봐도 참고가 될 거예요! 하하 Question:  네! Answer:  https://www.ggoomgil.go.kr/front/member/memberJoinAgree.do?memberType=expPlace 그리고 이 사이트는 전국에 직업 체험을 할 수 있는 사이트입니다! Question:  네! Answer:  여기는 진로 체험을 다 해볼 수 있는 곳이라서 쉽게 학생이 관심있는 직종뿐 아니라 다른 것들도 워크맨처럼 체험해볼 수 있을 거예요 Question:  네! Answer:  법학계열 이외에 또 생각해본 진로나 직업 등이 있을까요? Question:  아니요! Answer:  사회계열 이외에 관심있는 과목은 그러면 따로 없나요? Question:  국어도 좋아해요 Answer:  그렇군요! 지금 문이과가 통합되어있긴 하지만, 추후 진학을 생각했을 때는 문과 계열로 집중해서 공부할 예정이신가요? Question:  네! Answer:  친구는 진로에 대한 생각이 뚜렷해서 그에 맞는 길을 잘 준비해갈 거로 생각하지만 아까도 말씀드렸듯 요즘은 한 가지 직업만이 아닌 다양한 직업을 가지고 살아가는 때이기에 고등학교 저학년 때 여러 가지 직업도 같이 탐색해보면 좋을 것 같아요 Question:  네 제가 또 좋아하는 게 생기면 찾아볼게요 Answer:  진로 또한 진로상담, 진로 검사, 직업 탐색, 직업인 인터뷰 등 공부처럼 적극적으로 계획하고 준비해야 합답니다! 최근 만난 학생 중에서는 서울대를 나왔지만, 취업이 안 되는 학생도 있고, 지방 4년제를 나왔지만, 적극적으로 해보고 싶은 분야를 전공으로 선택해서 공모전, 자격증, 대외활동을 열심히 쌓아 대기업에 취업한 경우도 있었어요 Question:  그렇군요 Answer:  그런데 이 준비가 고등학생 때부터 미리 되어있다면 더욱이 대체 불가한 사람이 되어서 그 직렬에서 개성을 발휘할 수 있을 거예요 Question:  네 Answer:  지금 학생분은 좋아하는 직렬, 직무를 생각하고 있지만 여러가지 다른 분야도 찾아보며 이와 관련해서 교육, 강연 기회를 알아보는 것이 도움 될 거예요 하하 Question:  네 Answer:  '대학 어디가', '메이저 맵' 등의 사이트에서는 진학에 대한 정보를 얻을 수 있는 사이트들인데 이 사이트는 들어가 본 적 있을까요? Question:  아니요 Answer:  https://www.bing.com/search?q=대학어디가&cvid=945a95f0dbd04e188762642ba56b145f&aqs=edge.0.0l9.2456j0j4&FORM=ANWAB1&PC=SMTS https://www.majormap.net/ 메이저 맵 사이트는 AI 기반 맞춤형 진로 추천을 해주고 있어요! Question:  네 Answer:  학생의 특성과 장점을 잘 살려서 법률가 이외에 또 사회와 관련한 직무들을 다양하게 추천받을 수 있는 사이트니 끝나고 활용해보시길 추천해 드립니다\", metadata={'test': 'test'}), Document(page_content=' Answer:  혹시 장래 희망 정한 게 있어요? Question:  아니요. Answer:  그럼 부모님이 너한테는 이 직업이 어울린다고 추천해준 직업은요? Question:  그냥 했으면 좋겠다고 말한 적은 있는데, 어울린다고 말한 적은 없는 것 같아요. Answer:  했으면 좋겠다고 한 직업은 뭘까요? Question:  한의사요. Answer:  학생도 관심 있는 직업이에요? Question:  관심이 있긴 한데 그렇게 많이 관심 있진 않아요. Answer:  선생님 부모님도 선생님 어렸을 때 한의사 되었으면 좋겠다고 하셨었어요 Question:  그렇구나 Answer:  공부를 잘해야 할 수 있는 직업이죠 Answer:  ENFP 유형에게 맞는 직업은 아래와 같습니다. 1. 크리에이티브– 크리에이티브 디렉터, 디자이너, 시나리오 작가, 싱어송라이터, 방송 프로듀서, 연예인 2. 기획, 마케팅– 홍보·마케팅 컨설턴트, 카피라이터, 아트 디렉터 3. 교육, 상담– 각종 상담사, 주택 관리사, 교육 강사, 레크리에이션 강사, 예체능 교사 4. 비즈니스-컨설턴트, 이벤트, 엔터테인먼트, 마케팅, 헤드헌터, 상품기획, 코칭 성격에 어울리는 직업들이에요 혹시 관심 있는 직업 있으면 이야기해보세요 Question:  엄마가 전에 교사 되면 잘하겠다는 말 한 적이 있어요. 학교에서 진로 조사서 쓸 때 선생님이 꼭 쓰라 해서 카피라이터 조사한 적이 있어요. Answer:  어떤 선생님에 관심이 있나요? Question:  잘 모르겠어요. Answer:  역사 좋아하면 역사 선생님도 좋겠는데요? 선생님도 직업이 선생님이지만 너무 만족하고 있답니다 다시 태어나도 선생님이 하고 싶은 정도로요 Question:  많이 힘들 것 같아요. Answer:  그래도 교사는 힘든 직업은 아니에요 상대적으로 스트레스가 덜한 직업이랍니다 Question:  근데 딱히 하고싶다는 생각을 한 적이 없어요. Answer:  그래요 아직 초등학교 5학년이면 선생님 생각은 많은 것들을 경험해보고 체험해보는 게 더 중요하다고 생각해요 Question:  그렇죠 Answer:  네~ 일단 학교 공부 충실히 하고 Question:  네~ Answer:  본인의 재능과 적성과 흥미가 어떤 분야에 있는지 찾는 게 중요한 시기입니다. 선생님도 5학년 때 생각하면 아무 생각 없었죠. 뭐 선생님 때는 국민학교였는데 크크 그저 오락실 가서 오락하고 놀기 바빴던 시절이었던 거 같아요 커서 뭐 될래 하면 과학자라고만 막연히 생각했었는데 공부하면서 이과 성향이 아니라는 걸 알게 되었고 진로 방향을 돌려서 지금 직업을 갖게 되었는데 선생님도 고민이 많았어요 내가 뭘 잘하고 좋아하는지 몰랐거든요 선생님의 진로에 결정적으로 영향을 준 사람은 어머니였어요 어머니가 너는 성향이 공무원이나 교사가 맞을 거 같다고 하셔서 이쪽 길을 선택하게 된 거죠 그래 와보니 저랑 너무 잘 맞는 거 같아요 Question:  과학자가 꿈이었으면 과학 선생님도 괜찮았을 텐데 저는 재능으로 쳤을 때 잘하는 건 많은데 학과로 치면 다 따로여서 Answer:  선생님이 직업을 검색할 수 있는 사이트 알려줄 테니까 나중에 시간 날 때 Question:  아마도요. Answer:  한번 검색해 보세요 커리어넷이라고 들어봤어요? Question:  네 근데 제 휴대폰이 인터넷이 안 돼요. Answer:  지금 검색하라는 건 아니고요 나중에 시간 날 때 검색해보세요 Question:  커리어넷은 학교에서 많이 해봤어요. Answer:  그럼 잘 알겠구나 Question:  네 Answer:  싫어하는 과목은 있어요? Question:  네. 수학이요. Answer:  문과 성향 학생이군요 Question:  대학은 왜 가는 건지 모르겠어요. Answer:  그것도 선생님이 설명해줄게요 대학에 가지 않아도 돼요 근데 대학을 나오지 않으면 할 수 있는 제한되어 있죠 고등학교 졸업자로 취업시장에 나가면 할 수 있는 직업이 Question:  고등학교 졸업자가 뭐예요? Answer:  한정되어 있다는 거예요 고등학교 졸업을 고졸이라고 해요 쉽게 예를 들면 선생님처럼 고등학교 교사가 되려면 고등학교만 나와도 할 수 있을까요? Question:  아니요 Answer:  그런 거예요 선생님 친구 사례를 들려줄게요 선생님 친구가 공업고등학교를 졸업하고 나와서 공장에 들어가서 생산직 노동자로 일했어요 근데 너무 힘든 거에요 생활도 불규칙적이고 육체적으로 힘들어서 사직하고 아르바이트로 안 해본 일없이 일했어요 Question:  그렇구나 근데 대학은 나쁘지 않은데, 꼭 과목을 골라야 한다는 게 나빠요.', metadata={'test': 'test'}), Document(page_content=' Answer:  혹시 장래 희망 정한 게 있어요? Question:  아니요. Answer:  그럼 부모님이 너한테는 이 직업이 어울린다고 추천해준 직업은요? Question:  그냥 했으면 좋겠다고 말한 적은 있는데, 어울린다고 말한 적은 없는 것 같아요. Answer:  했으면 좋겠다고 한 직업은 뭘까요? Question:  한의사요. Answer:  학생도 관심 있는 직업이에요? Question:  관심이 있긴 한데 그렇게 많이 관심 있진 않아요. Answer:  선생님 부모님도 선생님 어렸을 때 한의사 되었으면 좋겠다고 하셨었어요 Question:  그렇구나 Answer:  공부를 잘해야 할 수 있는 직업이죠 Answer:  ENFP 유형에게 맞는 직업은 아래와 같습니다. 1. 크리에이티브– 크리에이티브 디렉터, 디자이너, 시나리오 작가, 싱어송라이터, 방송 프로듀서, 연예인 2. 기획, 마케팅– 홍보·마케팅 컨설턴트, 카피라이터, 아트 디렉터 3. 교육, 상담– 각종 상담사, 주택 관리사, 교육 강사, 레크리에이션 강사, 예체능 교사 4. 비즈니스-컨설턴트, 이벤트, 엔터테인먼트, 마케팅, 헤드헌터, 상품기획, 코칭 성격에 어울리는 직업들이에요 혹시 관심 있는 직업 있으면 이야기해보세요 Question:  엄마가 전에 교사 되면 잘하겠다는 말 한 적이 있어요. 학교에서 진로 조사서 쓸 때 선생님이 꼭 쓰라 해서 카피라이터 조사한 적이 있어요. Answer:  어떤 선생님에 관심이 있나요? Question:  잘 모르겠어요. Answer:  역사 좋아하면 역사 선생님도 좋겠는데요? 선생님도 직업이 선생님이지만 너무 만족하고 있답니다 다시 태어나도 선생님이 하고 싶은 정도로요 Question:  많이 힘들 것 같아요. Answer:  그래도 교사는 힘든 직업은 아니에요 상대적으로 스트레스가 덜한 직업이랍니다 Question:  근데 딱히 하고싶다는 생각을 한 적이 없어요. Answer:  그래요 아직 초등학교 5학년이면 선생님 생각은 많은 것들을 경험해보고 체험해보는 게 더 중요하다고 생각해요 Question:  그렇죠 Answer:  네~ 일단 학교 공부 충실히 하고 Question:  네~ Answer:  본인의 재능과 적성과 흥미가 어떤 분야에 있는지 찾는 게 중요한 시기입니다. 선생님도 5학년 때 생각하면 아무 생각 없었죠. 뭐 선생님 때는 국민학교였는데 크크 그저 오락실 가서 오락하고 놀기 바빴던 시절이었던 거 같아요 커서 뭐 될래 하면 과학자라고만 막연히 생각했었는데 공부하면서 이과 성향이 아니라는 걸 알게 되었고 진로 방향을 돌려서 지금 직업을 갖게 되었는데 선생님도 고민이 많았어요 내가 뭘 잘하고 좋아하는지 몰랐거든요 선생님의 진로에 결정적으로 영향을 준 사람은 어머니였어요 어머니가 너는 성향이 공무원이나 교사가 맞을 거 같다고 하셔서 이쪽 길을 선택하게 된 거죠 그래 와보니 저랑 너무 잘 맞는 거 같아요 Question:  과학자가 꿈이었으면 과학 선생님도 괜찮았을 텐데 저는 재능으로 쳤을 때 잘하는 건 많은데 학과로 치면 다 따로여서 Answer:  선생님이 직업을 검색할 수 있는 사이트 알려줄 테니까 나중에 시간 날 때 Question:  아마도요. Answer:  한번 검색해 보세요 커리어넷이라고 들어봤어요? Question:  네 근데 제 휴대폰이 인터넷이 안 돼요. Answer:  지금 검색하라는 건 아니고요 나중에 시간 날 때 검색해보세요 Question:  커리어넷은 학교에서 많이 해봤어요. Answer:  그럼 잘 알겠구나 Question:  네 Answer:  싫어하는 과목은 있어요? Question:  네. 수학이요. Answer:  문과 성향 학생이군요 Question:  대학은 왜 가는 건지 모르겠어요. Answer:  그것도 선생님이 설명해줄게요 대학에 가지 않아도 돼요 근데 대학을 나오지 않으면 할 수 있는 제한되어 있죠 고등학교 졸업자로 취업시장에 나가면 할 수 있는 직업이 Question:  고등학교 졸업자가 뭐예요? Answer:  한정되어 있다는 거예요 고등학교 졸업을 고졸이라고 해요 쉽게 예를 들면 선생님처럼 고등학교 교사가 되려면 고등학교만 나와도 할 수 있을까요? Question:  아니요 Answer:  그런 거예요 선생님 친구 사례를 들려줄게요 선생님 친구가 공업고등학교를 졸업하고 나와서 공장에 들어가서 생산직 노동자로 일했어요 근데 너무 힘든 거에요 생활도 불규칙적이고 육체적으로 힘들어서 사직하고 아르바이트로 안 해본 일없이 일했어요 Question:  그렇구나 근데 대학은 나쁘지 않은데, 꼭 과목을 골라야 한다는 게 나빠요.', metadata={'test': 'test'})]\n"
     ]
    }
   ],
   "source": [
    "# 4. retrive\n",
    "retriever = vectorstore.as_retriever()\n",
    "result_docs = retriever.invoke(\"전공은 어떻게 선택?\")\n",
    "#result_docs = retriever.invoke(\"{message}\")\n",
    "print(len(result_docs))\n",
    "print(result_docs)\n",
    "#print(result_docs[0].page_content[:100])"
   ]
  },
  {
   "cell_type": "code",
   "execution_count": 77,
   "metadata": {},
   "outputs": [],
   "source": [
    "from langchain_core.prompts import PromptTemplate\n",
    "from langchain_core.output_parsers import StrOutputParser\n",
    "from langchain_upstage import ChatUpstage\n",
    "\n",
    "\n",
    "llm = ChatUpstage(temperature=0.5)\n",
    "\n",
    "prompt_template = PromptTemplate.from_template(\n",
    "    \"\"\"\n",
    "    This is the Career Counseling Guidelines\n",
    "    1. Familiarize yourself with the basic history of students' individual career paths.\n",
    "    2. Determine the level and type of assistance based on students' career issues.\n",
    "    3. Provide students with useful career-related information and resources.\n",
    "    4. Share specific examples or experiences related to career paths honestly.\n",
    "    5. Tell or connect students with specific examples from their seniors' career paths.\n",
    "    6. Provide detailed guidance on career exploration possibilities related to their major.\n",
    "    This is the list you should not do. \n",
    "    1. Do not convey stereotypes or biases about specific careers or jobs.\n",
    "    2. Do not assume that your own success experiences apply to all students.\n",
    "    3. Be careful not to unilaterally guide students in the direction you want.\n",
    "    4. Do not do other work during the counseling session.\n",
    "    5. Do not view career counseling as a performance metric.\n",
    "    6. Avoid giving advice unrelated to the students' help requests.\n",
    "    7. Be cautious of providing outdated information or advice about recent job market trends and conditions.\n",
    "    8. Avoid giving unilateral instructions or reprimands.\n",
    "    9. Do not ask many personal questions unrelated to career counseling.\n",
    "    10. Avoid saying things that might hurt or lower students' morale.\n",
    "    \n",
    "    Follow above rules, and find similar question in the Context and give the answer similar to corresponding Answer. \n",
    "    Suppose you are a very good student counseler. Speak like you are a good counseler.\n",
    "\n",
    "    This is example conversation.\n",
    "    \"Answer: Do you have any plans for this vacation?\"\n",
    "    \"Question: Nothing much, just exercising at home.\"\n",
    "    \"Answer: Then, before our next session, how about researching one or more things you want to do? You can use the site I mentioned or search freely.\"\n",
    "    \"Question: Sounds good.\"\n",
    "    \"Answer: The second semester of your second year will be quite an important time. It would be good to get to know yourself better. I see a cat picture in your profile. Do you like animals? Jobs related to pets are also quite promising.\"\n",
    "    \"Question: I like cats.\"\n",
    "\n",
    "    You should speak the \"Answer\" Part. \n",
    "\n",
    "\n",
    "    If the answer is not present in the context, please write \"The information is not present in the context.\"\n",
    "    ---\n",
    "    Question: {message}\n",
    "    ---\n",
    "    Context: {Context}\n",
    "   \n",
    "    \"\"\"\n",
    ")\n",
    "chain = prompt_template | llm | StrOutputParser()"
   ]
  },
  {
   "cell_type": "code",
   "execution_count": 78,
   "metadata": {},
   "outputs": [],
   "source": [
    "def chat(message, history):\n",
    "    history_langchain_format = []\n",
    "    for human, ai in history:\n",
    "        history_langchain_format.append(HumanMessage(content=human))\n",
    "        history_langchain_format.append(AIMessage(content=ai))\n",
    "\n",
    "    #return chain.invoke({\"message\": message, \"history\": history_langchain_format})\n",
    "    return chain.invoke({\"message\": message, \"Context\": result_docs})"
   ]
  },
  {
   "cell_type": "code",
   "execution_count": 85,
   "metadata": {},
   "outputs": [],
   "source": [
    "with gr.Blocks() as demo:\n",
    "    chatbot = gr.ChatInterface(\n",
    "        chat,\n",
    "        examples=[\n",
    "            \"전공 선택은 어떻게 하는 것이 좋을까 ? \",\n",
    "            \"유망 직업은 뭘까?\",\n",
    "            \"연예인이 되려면 어떻게 할까요?\",\n",
    "        ],\n",
    "        title=\"Solar Chatbot\",\n",
    "        description=\"Upstage Solar Chatbot\",\n",
    "    )\n",
    "    chatbot.chatbot.height = 300"
   ]
  },
  {
   "cell_type": "code",
   "execution_count": 86,
   "metadata": {},
   "outputs": [],
   "source": [
    "chain = prompt_template | llm | StrOutputParser()"
   ]
  },
  {
   "cell_type": "code",
   "execution_count": 87,
   "metadata": {},
   "outputs": [
    {
     "data": {
      "text/plain": [
       "'질문: 저는 과학이 좋아요.'"
      ]
     },
     "execution_count": 87,
     "metadata": {},
     "output_type": "execute_result"
    }
   ],
   "source": [
    "chain.invoke({\"message\":\"저는 과학이 좋아요\",\"Context\":result_docs})"
   ]
  },
  {
   "cell_type": "code",
   "execution_count": 89,
   "metadata": {},
   "outputs": [
    {
     "name": "stdout",
     "output_type": "stream",
     "text": [
      "Rerunning server... use `close()` to stop if you need to change `launch()` parameters.\n",
      "----\n",
      "\n",
      "To create a public link, set `share=True` in `launch()`.\n"
     ]
    },
    {
     "data": {
      "text/html": [
       "<div><iframe src=\"http://127.0.0.1:7877/\" width=\"100%\" height=\"500\" allow=\"autoplay; camera; microphone; clipboard-read; clipboard-write;\" frameborder=\"0\" allowfullscreen></iframe></div>"
      ],
      "text/plain": [
       "<IPython.core.display.HTML object>"
      ]
     },
     "metadata": {},
     "output_type": "display_data"
    }
   ],
   "source": [
    "if __name__ == \"__main__\":\n",
    "    demo.launch()"
   ]
  },
  {
   "cell_type": "code",
   "execution_count": null,
   "metadata": {},
   "outputs": [],
   "source": []
  },
  {
   "cell_type": "code",
   "execution_count": 20,
   "metadata": {},
   "outputs": [
    {
     "data": {
      "text/plain": [
       "'학생님께서 게임을 좋아하시는군요. 게임을 좋아하고 잘하시는 것은 멋진 일입니다. 게임을 취미로 즐기는 것도 좋지만, 프로게이머로 진로를 생각하고 계시다면, 프로게이머가 되기 위해 필요한 기술과 지식을 습득하는 것이 중요합니다.\\n\\n프로게이머가 되기 위해서는 게임 실력과 함께 전략적인 사고와 빠른 판단력, 그리고 팀워크 등이 필요합니다. 또한, 게임에 대한 지식과 최신 트렌드를 파악하는 것도 중요합니다.\\n\\n프로게이머로 진로를 선택하신다면, 게임 대회에 참가하거나 게임 관련 커뮤니티에 참여하여 경험을 쌓는 것도 좋은 방법입니다. 또한, 게임 관련 교육 기관이나 학원을 찾아보는 것도 도움이 될 수 있습니다.\\n\\n게임을 좋아하고 잘하시는 학생님께서는 프로게이머로 진로를 선택하신다면, 많은 가능성을 가지고 계실 것입니다. 하지만, 게임 외에도 다양한 진로가 있으니, 다른 분야에도 관심을 가지고 탐색해보시는 것도 좋은 방법입니다.\\n\\n학생님의 진로를 응원하며, 언제든지 도움이 필요하시면 말씀해주세요.'"
      ]
     },
     "execution_count": 20,
     "metadata": {},
     "output_type": "execute_result"
    }
   ],
   "source": [
    "chain.invoke({\"question\": \"저는 게임을 좋아해요.\", \"Context\": result_docs})"
   ]
  },
  {
   "cell_type": "markdown",
   "metadata": {},
   "source": [
    "# Excercise: Hybrid\n",
    "Sometimes keyword search can be useful. Design a system that does keyword and semantic search, then combine the results. Use them as context for your RAG."
   ]
  },
  {
   "cell_type": "code",
   "execution_count": null,
   "metadata": {},
   "outputs": [],
   "source": []
  },
  {
   "cell_type": "markdown",
   "metadata": {},
   "source": []
  }
 ],
 "metadata": {
  "kernelspec": {
   "display_name": "Python 3.9.19 ('solar_new')",
   "language": "python",
   "name": "python3"
  },
  "language_info": {
   "codemirror_mode": {
    "name": "ipython",
    "version": 3
   },
   "file_extension": ".py",
   "mimetype": "text/x-python",
   "name": "python",
   "nbconvert_exporter": "python",
   "pygments_lexer": "ipython3",
   "version": "3.11.9"
  },
  "vscode": {
   "interpreter": {
    "hash": "eb2addc7cc1c85d6e0512639ebc73439f9ea1829038d716cb80b7ab32055227e"
   }
  }
 },
 "nbformat": 4,
 "nbformat_minor": 2
}
