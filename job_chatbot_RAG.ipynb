{
 "cells": [
  {
   "cell_type": "markdown",
   "metadata": {},
   "source": [
    "## RAG: Retrieval Augmented Generation.\n",
    "- Large language models (LLMs) have a limited context size.\n",
    "- TLDR\n",
    "- Not all context is relevant to a given question\n",
    "- Query -> Search -> Results -> (LLM) -> Answer"
   ]
  },
  {
   "cell_type": "markdown",
   "metadata": {},
   "source": [
    "## Keyword VS Semantic Search \n",
    "![Vector](https://blog.dataiku.com/hs-fs/hubfs/dftt%202.webp?width=1346&height=632&name=dftt%202.webp)\n",
    "\n",
    "from https://blog.dataiku.com/semantic-search-an-overlooked-nlp-superpower"
   ]
  },
  {
   "cell_type": "markdown",
   "metadata": {},
   "source": [
    "![Emb_search](figures/emb_search.png)\n",
    "\n",
    "from https://sreent.medium.com/llms-embeddings-and-vector-search-d4bd9362df56"
   ]
  },
  {
   "cell_type": "code",
   "execution_count": 1,
   "metadata": {},
   "outputs": [],
   "source": [
    "! pip3 install -qU  markdownify  langchain-upstage rank_bm25\n",
    "! pip3 install -qU langchain_chroma"
   ]
  },
  {
   "cell_type": "code",
   "execution_count": 2,
   "metadata": {},
   "outputs": [],
   "source": [
    "\n",
    "%load_ext dotenv\n",
    "%dotenv\n",
    "# UPSTAGE_API_KEY"
   ]
  },
  {
   "cell_type": "code",
   "execution_count": 3,
   "metadata": {},
   "outputs": [],
   "source": [
    "import warnings\n",
    "\n",
    "warnings.filterwarnings(\"ignore\")"
   ]
  },
  {
   "cell_type": "code",
   "execution_count": 4,
   "metadata": {},
   "outputs": [
    {
     "data": {
      "text/plain": [
       "(1, 4096)"
      ]
     },
     "execution_count": 4,
     "metadata": {},
     "output_type": "execute_result"
    }
   ],
   "source": [
    "from langchain_upstage import UpstageEmbeddings\n",
    "\n",
    "embeddings_model = UpstageEmbeddings(model=\"solar-embedding-1-large\", embed_batch_size=100)\n",
    "embeddings = embeddings_model.embed_documents(\n",
    "    [\n",
    "        \"What is the best season to visit Korea?\",\n",
    "    ])\n",
    "\n",
    "len(embeddings), len(embeddings[0])"
   ]
  },
  {
   "cell_type": "code",
   "execution_count": 5,
   "metadata": {},
   "outputs": [],
   "source": [
    "# RAG 1. load doc (done), 2. chunking, splits, 3. embeding - indexing, 4. retrieve\n"
   ]
  },
  {
   "cell_type": "code",
   "execution_count": 6,
   "metadata": {},
   "outputs": [],
   "source": [
    "from langchain_core.documents import Document"
   ]
  },
  {
   "cell_type": "code",
   "execution_count": 15,
   "metadata": {},
   "outputs": [],
   "source": [
    "import json\n",
    "question_and_answer_list = []\n",
    "with open('json/question_and_answer_data.json', encoding='utf-8') as f:\n",
    "    a = json.load(f)"
   ]
  },
  {
   "cell_type": "code",
   "execution_count": 16,
   "metadata": {},
   "outputs": [],
   "source": [
    "for k, v in a.items():\n",
    "    seq = ''\n",
    "    for i in v:\n",
    "        seq += f' {i}'\n",
    "    question_and_answer_list.append(Document(page_content=seq, metadata={\"test\": \"test\"}))    "
   ]
  },
  {
   "cell_type": "code",
   "execution_count": 17,
   "metadata": {},
   "outputs": [],
   "source": [
    "from langchain_chroma import Chroma\n",
    "\n",
    "# 3. Embed & indexing\n",
    "vectorstore = Chroma.from_documents(documents=question_and_answer_list, embedding=UpstageEmbeddings(model=\"solar-embedding-1-large\", embed_batch_size=100))"
   ]
  },
  {
   "cell_type": "markdown",
   "metadata": {},
   "source": [
    "챗봇 프롬프트 입력 "
   ]
  },
  {
   "cell_type": "code",
   "execution_count": 34,
   "metadata": {},
   "outputs": [],
   "source": [
    "import gradio as gr\n",
    "\n",
    "from langchain_upstage import ChatUpstage\n",
    "from langchain_core.prompts import ChatPromptTemplate, MessagesPlaceholder\n",
    "from langchain_core.output_parsers import StrOutputParser\n",
    "from langchain.schema import AIMessage, HumanMessage\n",
    "\n",
    "\n",
    "llm = ChatUpstage(temperature=0.8)"
   ]
  },
  {
   "cell_type": "code",
   "execution_count": 45,
   "metadata": {},
   "outputs": [
    {
     "name": "stdout",
     "output_type": "stream",
     "text": [
      "4\n",
      "[Document(page_content=' Answer:  혹시 장래 희망 정한 게 있어요? Question:  아니요. Answer:  그럼 부모님이 너한테는 이 직업이 어울린다고 추천해준 직업은요? Question:  그냥 했으면 좋겠다고 말한 적은 있는데, 어울린다고 말한 적은 없는 것 같아요. Answer:  했으면 좋겠다고 한 직업은 뭘까요? Question:  한의사요. Answer:  학생도 관심 있는 직업이에요? Question:  관심이 있긴 한데 그렇게 많이 관심 있진 않아요. Answer:  선생님 부모님도 선생님 어렸을 때 한의사 되었으면 좋겠다고 하셨었어요 Question:  그렇구나 Answer:  공부를 잘해야 할 수 있는 직업이죠 Answer:  ENFP 유형에게 맞는 직업은 아래와 같습니다. 1. 크리에이티브– 크리에이티브 디렉터, 디자이너, 시나리오 작가, 싱어송라이터, 방송 프로듀서, 연예인 2. 기획, 마케팅– 홍보·마케팅 컨설턴트, 카피라이터, 아트 디렉터 3. 교육, 상담– 각종 상담사, 주택 관리사, 교육 강사, 레크리에이션 강사, 예체능 교사 4. 비즈니스-컨설턴트, 이벤트, 엔터테인먼트, 마케팅, 헤드헌터, 상품기획, 코칭 성격에 어울리는 직업들이에요 혹시 관심 있는 직업 있으면 이야기해보세요 Question:  엄마가 전에 교사 되면 잘하겠다는 말 한 적이 있어요. 학교에서 진로 조사서 쓸 때 선생님이 꼭 쓰라 해서 카피라이터 조사한 적이 있어요. Answer:  어떤 선생님에 관심이 있나요? Question:  잘 모르겠어요. Answer:  역사 좋아하면 역사 선생님도 좋겠는데요? 선생님도 직업이 선생님이지만 너무 만족하고 있답니다 다시 태어나도 선생님이 하고 싶은 정도로요 Question:  많이 힘들 것 같아요. Answer:  그래도 교사는 힘든 직업은 아니에요 상대적으로 스트레스가 덜한 직업이랍니다 Question:  근데 딱히 하고싶다는 생각을 한 적이 없어요. Answer:  그래요 아직 초등학교 5학년이면 선생님 생각은 많은 것들을 경험해보고 체험해보는 게 더 중요하다고 생각해요 Question:  그렇죠 Answer:  네~ 일단 학교 공부 충실히 하고 Question:  네~ Answer:  본인의 재능과 적성과 흥미가 어떤 분야에 있는지 찾는 게 중요한 시기입니다. 선생님도 5학년 때 생각하면 아무 생각 없었죠. 뭐 선생님 때는 국민학교였는데 크크 그저 오락실 가서 오락하고 놀기 바빴던 시절이었던 거 같아요 커서 뭐 될래 하면 과학자라고만 막연히 생각했었는데 공부하면서 이과 성향이 아니라는 걸 알게 되었고 진로 방향을 돌려서 지금 직업을 갖게 되었는데 선생님도 고민이 많았어요 내가 뭘 잘하고 좋아하는지 몰랐거든요 선생님의 진로에 결정적으로 영향을 준 사람은 어머니였어요 어머니가 너는 성향이 공무원이나 교사가 맞을 거 같다고 하셔서 이쪽 길을 선택하게 된 거죠 그래 와보니 저랑 너무 잘 맞는 거 같아요 Question:  과학자가 꿈이었으면 과학 선생님도 괜찮았을 텐데 저는 재능으로 쳤을 때 잘하는 건 많은데 학과로 치면 다 따로여서 Answer:  선생님이 직업을 검색할 수 있는 사이트 알려줄 테니까 나중에 시간 날 때 Question:  아마도요. Answer:  한번 검색해 보세요 커리어넷이라고 들어봤어요? Question:  네 근데 제 휴대폰이 인터넷이 안 돼요. Answer:  지금 검색하라는 건 아니고요 나중에 시간 날 때 검색해보세요 Question:  커리어넷은 학교에서 많이 해봤어요. Answer:  그럼 잘 알겠구나 Question:  네 Answer:  싫어하는 과목은 있어요? Question:  네. 수학이요. Answer:  문과 성향 학생이군요 Question:  대학은 왜 가는 건지 모르겠어요. Answer:  그것도 선생님이 설명해줄게요 대학에 가지 않아도 돼요 근데 대학을 나오지 않으면 할 수 있는 제한되어 있죠 고등학교 졸업자로 취업시장에 나가면 할 수 있는 직업이 Question:  고등학교 졸업자가 뭐예요? Answer:  한정되어 있다는 거예요 고등학교 졸업을 고졸이라고 해요 쉽게 예를 들면 선생님처럼 고등학교 교사가 되려면 고등학교만 나와도 할 수 있을까요? Question:  아니요 Answer:  그런 거예요 선생님 친구 사례를 들려줄게요 선생님 친구가 공업고등학교를 졸업하고 나와서 공장에 들어가서 생산직 노동자로 일했어요 근데 너무 힘든 거에요 생활도 불규칙적이고 육체적으로 힘들어서 사직하고 아르바이트로 안 해본 일없이 일했어요 Question:  그렇구나 근데 대학은 나쁘지 않은데, 꼭 과목을 골라야 한다는 게 나빠요.', metadata={'test': 'test'}), Document(page_content=' Answer:  그런데 학생 성향이 남들 앞에 서도 두렵지 않고, 리더 경험도 많고, 그룹을 이끌기도 하고 결정도 스스로 하는 걸 보아서는 주도적인 성향도 있고, 성취욕구나 책임감도 큰 것 같아요.  Question:  감사합니다 Answer:  사실 그래서, 이러한 학생들은 경영대학이나 행정 쪽이나 경제 쪽이나 그런 쪽으로 보통 진학하는데 참고해요.  Question:  네 Answer:  자세한 건 더 적성을 살펴봐야 하겠지만, 아마 기술이나 기계보다는 사람에게 도움 되고, 사람을 이끌고 협업하는 것에 관심이 더 많으니 Question:  네 경영학과는 사실상 모든 대학에 있다고 해도 무방해서 일단 경영학과를 생각하고 있어요  Answer:  포커스를 IT<경영 쪽으로 더 맞춰보는 것이 본인 성향과는 더 일치되는 부분이 있지 않을까 해요.  IT 경영학과나 경영학과 내에 IT를 다루고 있는 대학들도 있던데 Question:  네 Answer:  혹시 대학 어디가 라는 사이트 들어보셨나요?  Question:  네 들어봤어요 Answer:  들어가 본 적은 있나요?  Question:  네 들어가서 학과 검색해봤는데  경쟁률 이런 게 나와서 어렵더라고요 Answer:  그렇군요.  선생님이 살펴보니  사진 이런 쪽이 있기는 한데 Question:  네 저는 서울 주요 대학을 지망하고 있어서 경영학과를 생각하고 있어요 Answer:  자세한 건 시간 될 때 한번 보면 좋을 것 같아요.  아니면 경영학과에 가서 대학에서 복수전공을 하는 방법도 있으니 참고하면 좋겠어요. Question:  복수전공은 학과 무관하게 할 수 있나요? 예를 들어, 제가 경영학과인데 컴퓨터공학과를 복수전공 할 수도 있는 걸까요? Answer:  대부분의 대학에선 포괄적으로 하고 있긴 하지만 그래도 학과마다 조금 다르긴 해서! 그건 한번 확인해 보는 게 좋아요.  Question:  네 감사합니다!  대학 진학해서 창업동아리 같은 걸 해보려고 했어요. Answer:  아주 좋은데요!  Question:  네 그런 걸 해보면서 개발 쪽 지식도 얻을 수 있지 않을까 기대하고 있어요 Answer:  대학 들어가면 동아리도 해보고, 학과마다 학회라는 것도 있으니 경험해 보면 좋고요. (그럼 과에서 대인관계에 도움이 되어요) Question:  네 Answer:  요즘은 대면 되고 나서 공모전이나 대회도 점차 많이 하는 추세라서 마음 맞는 친구들이랑 나가서 도전해 봐도 좋을 거예요.  Question:  네 감사합니다!  우선 대학에 잘 가야 할 텐데 Answer:  나중에 입상하거나 상 받으면 취업할 때 도움이 많이 되거든요.  꿈은 크게! ', metadata={'test': 'test'}), Document(page_content=' Answer:  그럼 이제 고등학교 2학년 되는데 혹시 관심 가는 전공이나 학과가 있나요?  Question:  무난하게 경영학과에 가면 경영학과를 가면 괜찮지 않을까 생각하고 있습니다  Answer:  경영학과! 멋지네요.  경영학을 공부하면 어디에서든 자리를 잡고 경제력을 이룰 수 있지요  Question:  그렇게 하면서 제가 하고 싶은 게 생기면 추가로 도전해보고 싶어요  Answer:  경영학으로 삶의 기반을 다지면서 또 다른 하고 싶은 걸 찾고 싶은 건가요?  여러 가지를 하고 싶은 모습 정말 멋집니다.  Answer:  지금도 새로운 활동을 하려고 카카오톡 상담을 들어왔잖아요~ Question:  하하 그런가요 또 어떤 곳에 가야 다양한 일들을 더 접해볼 수 있을까요? Answer:  아주 간단하게는 우리 휴대폰 검색으로도 직업이나 미래에 관한 자료를 찾고 이벤트들을 알 수 있죠. 아주아주 크게는 호기심이 든 직업 전문가들을 인터뷰하는 일도 있고? 직접 체험을 할 수도 있고~ 잘 알아가고 잘해 나갈 수 있어요. 오늘도 많은 이야길 한걸요! Question:  네 감사합니다 Answer:  지금 친구는 직업 진로에 대해서 가장 해보고 싶은 게 있다면 뭘까요? Question:  그 직업을 가지신 분과 이야기 나누는 게 궁금해요', metadata={'test': 'test'}), Document(page_content=\" Answer:  이어서 2차 상담을 해볼게요. 혹시 직업 관련해서 정보를 찾아본 적이 있나요? Question:  직업은 제가 원래 게임을 좋아하는데 자태라고 Answer:  자기 캐릭터요? Question:  자기만의 캐릭터 만드는 게 있는데 그런 걸 생각하다가 이걸 진짜로 만들어보고 싶다고 생각하게 되었어요. Answer:  너무 좋은 생각이에요! 하하 혹시 이 직업을 갖기 위해 어떤 전공을 가져야 하는지도 알고 있나요? Question:  컴퓨터 공학과 아닌가요? Answer:  맞아요~ 잘 알고 있네요! 학생 같은 경우는 일찍부터 이 분야에 관심이 있다 보니까 준비할 수 있는 시간이 많이 있잖아요~ Question:  네!! Answer:  그래서 미리부터 관련 정보들을 잘 모아보고 코딩도 미리미리 많이 만져보면 좋을 것 같아요 it 계열은 전공자 따라가기가 정말 쉽지 않거든요 Question:  전공자 따라가기가 무슨 말인지 잘 모르겠어요 Answer:  아하 그 전공을 나온 사람과 아닌 사람의 실력 차이가 크게 나서요 Question:  그러면 컴퓨터 공학과에 가면 괜찮은 건가요? Answer:  네 맞아요! 학과 이름은 학교마다 다른데요 컴퓨터공학과, 소프트웨어과 게임 제작학과 등등 있어요 Question:  네네 Answer:  혹시 미리부터 관련 직업 체험 할 수 있는 곳을 알고 있나요? Question:  아니요  Answer:  추천해드리는 활동이 몇 가지 있는데요 고려대학교에 창의공학 캠프하고 초등학교 대상 캠프가 있어요~ Question:  그건 초등학생도 들을 수 있나요? 아니면 중학생이 돼야 들을 수 있나요? Answer:  초등용, 중등용 따로 있어요~ Question:  아 진짜요? Answer:  네 네 한번 알아보면 좋을 것 같아요 Question:  그럼 만약에 올해 못 가면 내년에 중학교 돼도 가볼 수 있는 거네요! Answer:  맞아요~ Question:  네 Answer:  다른 활동들도 있는데 그건 고등학생부터 있네요 Question:  네네 Answer:  유튜브 보고 코딩 기본적인 것들을 하나하나 반복해서 따라 해보는 시간도 가져보면 좋을 것 같아요 Question:  네네! Answer:  다만 한 번에 몰아서 하기보단 꾸준하게 하는 게 중요해요 저도 잠깐 공부해본 적이 있는데 Question:  코딩이요? Answer:  네. 흐흐 Question:  신기하네요 Answer:  html 잠깐 해봤어요 Question:  선생님도 개발자가 되려고 하신 거에요? Answer:  코딩~ 하니까 대학생일 때 배워봤어요 안 하니까 손이 잊어버려서 금방 또 굳어지더라고요… Question:  아 개발자가 안 되는데도 공부하셨나 봐요 Answer:  네 아까도 이야기한 것처럼 다양한 분야에서 it가 사용되다 보니 배워두면 좋을 것 같아서 배웠어요. 흐흐 Question:  그럼 엄청 열심히 안 하면 할 줄 아는 사람이 많으니까 안될 수도 있는 거예요? Answer:  엄청 '열심히'가 아니더라도 꾸준히 차근차근히 하는 게 가장 중요해요 Question:  네네 Answer:  그리고 할 줄 사람이 많아 보일 수는 있는데요 개발자 영역은 그 위 단계여서 정말 잘 만질 줄 알고 내용을 이해하는 실력자는 많이 없기도 해요~ Question:  그렇구나 저도 그럼 그런 실력자가 돼야 제가 만들고 싶은 게임개발자가 될 수 있겠죠? Answer:  그렇겠죠? 그런데 걱정할 게 없는 게 학생은 지금부터 시작하는 거잖아요~ Question:  네!! Answer:  시간이 있고 하고자 하는 마음이 있는 학생이라면 지금 당장은 배울 때 힘들더라도 충분히 할 수 있어요 Question:  네 감사합니다 Answer:  지금 조금씩 코딩 따라 해보고 하는 게 재미있고 해볼 수 있겠는데? 생각이 든다면 아주아주 잘하고 있는 겁니다. 흐흐 Question:  어렵긴 하지만 해볼 수 있겠다고 생각하니까 잘하고 있는 거네요 하하 감사합니다!\", metadata={'test': 'test'})]\n"
     ]
    }
   ],
   "source": [
    "# 4. retrive\n",
    "retriever = vectorstore.as_retriever()\n",
    "result_docs = retriever.invoke(\"전공은 어떻게 선택?\")\n",
    "#result_docs = retriever.invoke(\"{message}\")\n",
    "print(len(result_docs))\n",
    "print(result_docs)\n",
    "#print(result_docs[0].page_content[:100])"
   ]
  },
  {
   "cell_type": "code",
   "execution_count": 36,
   "metadata": {},
   "outputs": [],
   "source": [
    "\n"
   ]
  },
  {
   "cell_type": "code",
   "execution_count": 53,
   "metadata": {},
   "outputs": [],
   "source": [
    "from langchain_core.prompts import PromptTemplate\n",
    "from langchain_core.output_parsers import StrOutputParser\n",
    "from langchain_upstage import ChatUpstage\n",
    "\n",
    "\n",
    "llm = ChatUpstage(temperature=0.5)\n",
    "\n",
    "prompt_template = PromptTemplate.from_template(\n",
    "    \"\"\"\n",
    "    This is the Career Counseling Guidelines\n",
    "    1. Familiarize yourself with the basic history of students' individual career paths.\n",
    "    2. Determine the level and type of assistance based on students' career issues.\n",
    "    3. Provide students with useful career-related information and resources.\n",
    "    4. Share specific examples or experiences related to career paths honestly.\n",
    "    5. Tell or connect students with specific examples from their seniors' career paths.\n",
    "    6. Provide detailed guidance on career exploration possibilities related to their major.\n",
    "    This is the list you should not do. \n",
    "    1. Do not convey stereotypes or biases about specific careers or jobs.\n",
    "    2. Do not assume that your own success experiences apply to all students.\n",
    "    3. Be careful not to unilaterally guide students in the direction you want.\n",
    "    4. Do not do other work during the counseling session.\n",
    "    5. Do not view career counseling as a performance metric.\n",
    "    6. Avoid giving advice unrelated to the students' help requests.\n",
    "    7. Be cautious of providing outdated information or advice about recent job market trends and conditions.\n",
    "    8. Avoid giving unilateral instructions or reprimands.\n",
    "    9. Do not ask many personal questions unrelated to career counseling.\n",
    "    10. Avoid saying things that might hurt or lower students' morale.\n",
    "    \n",
    "    Follow above rules, and find similar question in the Context and give the answer similar to corresponding Answer. \n",
    "    Suppose you are a very good student counseler. Speak like you are a good counseler.\n",
    "\n",
    "    This is example conversation.\n",
    "    \"Answer: Do you have any plans for this vacation?\"\n",
    "    \"Question: Nothing much, just exercising at home.\"\n",
    "    \"Answer: Then, before our next session, how about researching one or more things you want to do? You can use the site I mentioned or search freely.\"\n",
    "    \"Question: Sounds good.\"\n",
    "    \"Answer: The second semester of your second year will be quite an important time. It would be good to get to know yourself better. I see a cat picture in your profile. Do you like animals? Jobs related to pets are also quite promising.\"\n",
    "    \"Question: I like cats.\"\n",
    "\n",
    "    You should speak the \"Answer\" Part. \n",
    "\n",
    "\n",
    "    If the answer is not present in the context, please write \"The information is not present in the context.\"\n",
    "    ---\n",
    "    Question: {message}\n",
    "    ---\n",
    "    Context: {Context}\n",
    "   \n",
    "    \"\"\"\n",
    ")\n",
    "chain = prompt_template | llm | StrOutputParser()"
   ]
  },
  {
   "cell_type": "code",
   "execution_count": 54,
   "metadata": {},
   "outputs": [],
   "source": [
    "def chat(message, history):\n",
    "    history_langchain_format = []\n",
    "    for human, ai in history:\n",
    "        history_langchain_format.append(HumanMessage(content=human))\n",
    "        history_langchain_format.append(AIMessage(content=ai))\n",
    "\n",
    "    return chain.invoke({\"message\": message, \"history\": history_langchain_format})"
   ]
  },
  {
   "cell_type": "code",
   "execution_count": 55,
   "metadata": {},
   "outputs": [],
   "source": [
    "with gr.Blocks() as demo:\n",
    "    chatbot = gr.ChatInterface(\n",
    "        chat,\n",
    "        examples=[\n",
    "            \"전공 선택은 어떻게 하는 것이 좋을까 ? \",\n",
    "            \"유망 직업은 뭘까?\",\n",
    "            \"How to make a chatbot?\",\n",
    "        ],\n",
    "        title=\"Solar Chatbot\",\n",
    "        description=\"Upstage Solar Chatbot\",\n",
    "    )\n",
    "    chatbot.chatbot.height = 300"
   ]
  },
  {
   "cell_type": "code",
   "execution_count": 46,
   "metadata": {},
   "outputs": [],
   "source": [
    "chain = chat_with_history_prompt | llm | StrOutputParser()"
   ]
  },
  {
   "cell_type": "code",
   "execution_count": 56,
   "metadata": {},
   "outputs": [
    {
     "data": {
      "text/plain": [
       "'답변: 과학을 좋아하신다면, 과학 관련 학과나 직업에 대해 더 알아보는 것은 어떨까요? 과학 연구원, 과학 교사, 과학 작가 등 다양한 직업이 있습니다.'"
      ]
     },
     "execution_count": 56,
     "metadata": {},
     "output_type": "execute_result"
    }
   ],
   "source": [
    "chain.invoke({\"question\":\"저는 과학이 좋아요\",\"Context\":result_docs})"
   ]
  },
  {
   "cell_type": "code",
   "execution_count": null,
   "metadata": {},
   "outputs": [
    {
     "name": "stdout",
     "output_type": "stream",
     "text": [
      "Running on local URL:  http://127.0.0.1:7869\n",
      "\n",
      "To create a public link, set `share=True` in `launch()`.\n"
     ]
    },
    {
     "data": {
      "text/html": [
       "<div><iframe src=\"http://127.0.0.1:7869/\" width=\"100%\" height=\"500\" allow=\"autoplay; camera; microphone; clipboard-read; clipboard-write;\" frameborder=\"0\" allowfullscreen></iframe></div>"
      ],
      "text/plain": [
       "<IPython.core.display.HTML object>"
      ]
     },
     "metadata": {},
     "output_type": "display_data"
    }
   ],
   "source": [
    "if __name__ == \"__main__\":\n",
    "    demo.launch()"
   ]
  },
  {
   "cell_type": "code",
   "execution_count": null,
   "metadata": {},
   "outputs": [],
   "source": []
  },
  {
   "cell_type": "code",
   "execution_count": 41,
   "metadata": {},
   "outputs": [
    {
     "name": "stdout",
     "output_type": "stream",
     "text": [
      "Running on local URL:  http://127.0.0.1:7874\n",
      "\n",
      "To create a public link, set `share=True` in `launch()`.\n"
     ]
    },
    {
     "data": {
      "text/html": [
       "<div><iframe src=\"http://127.0.0.1:7874/\" width=\"100%\" height=\"500\" allow=\"autoplay; camera; microphone; clipboard-read; clipboard-write;\" frameborder=\"0\" allowfullscreen></iframe></div>"
      ],
      "text/plain": [
       "<IPython.core.display.HTML object>"
      ]
     },
     "metadata": {},
     "output_type": "display_data"
    },
    {
     "name": "stderr",
     "output_type": "stream",
     "text": [
      "Traceback (most recent call last):\n",
      "  File \"C:\\Users\\Administrator\\AppData\\Local\\Packages\\PythonSoftwareFoundation.Python.3.11_qbz5n2kfra8p0\\LocalCache\\local-packages\\Python311\\site-packages\\gradio\\queueing.py\", line 528, in process_events\n",
      "    response = await route_utils.call_process_api(\n",
      "               ^^^^^^^^^^^^^^^^^^^^^^^^^^^^^^^^^^^\n",
      "  File \"C:\\Users\\Administrator\\AppData\\Local\\Packages\\PythonSoftwareFoundation.Python.3.11_qbz5n2kfra8p0\\LocalCache\\local-packages\\Python311\\site-packages\\gradio\\route_utils.py\", line 270, in call_process_api\n",
      "    output = await app.get_blocks().process_api(\n",
      "             ^^^^^^^^^^^^^^^^^^^^^^^^^^^^^^^^^^^\n",
      "  File \"C:\\Users\\Administrator\\AppData\\Local\\Packages\\PythonSoftwareFoundation.Python.3.11_qbz5n2kfra8p0\\LocalCache\\local-packages\\Python311\\site-packages\\gradio\\blocks.py\", line 1908, in process_api\n",
      "    result = await self.call_function(\n",
      "             ^^^^^^^^^^^^^^^^^^^^^^^^^\n",
      "  File \"C:\\Users\\Administrator\\AppData\\Local\\Packages\\PythonSoftwareFoundation.Python.3.11_qbz5n2kfra8p0\\LocalCache\\local-packages\\Python311\\site-packages\\gradio\\blocks.py\", line 1483, in call_function\n",
      "    prediction = await fn(*processed_input)\n",
      "                 ^^^^^^^^^^^^^^^^^^^^^^^^^^\n",
      "  File \"C:\\Users\\Administrator\\AppData\\Local\\Packages\\PythonSoftwareFoundation.Python.3.11_qbz5n2kfra8p0\\LocalCache\\local-packages\\Python311\\site-packages\\gradio\\utils.py\", line 775, in async_wrapper\n",
      "    response = await f(*args, **kwargs)\n",
      "               ^^^^^^^^^^^^^^^^^^^^^^^^\n",
      "  File \"C:\\Users\\Administrator\\AppData\\Local\\Packages\\PythonSoftwareFoundation.Python.3.11_qbz5n2kfra8p0\\LocalCache\\local-packages\\Python311\\site-packages\\gradio\\chat_interface.py\", line 516, in _submit_fn\n",
      "    response = await anyio.to_thread.run_sync(\n",
      "               ^^^^^^^^^^^^^^^^^^^^^^^^^^^^^^^\n",
      "  File \"C:\\Users\\Administrator\\AppData\\Local\\Packages\\PythonSoftwareFoundation.Python.3.11_qbz5n2kfra8p0\\LocalCache\\local-packages\\Python311\\site-packages\\anyio\\to_thread.py\", line 56, in run_sync\n",
      "    return await get_async_backend().run_sync_in_worker_thread(\n",
      "           ^^^^^^^^^^^^^^^^^^^^^^^^^^^^^^^^^^^^^^^^^^^^^^^^^^^^\n",
      "  File \"C:\\Users\\Administrator\\AppData\\Local\\Packages\\PythonSoftwareFoundation.Python.3.11_qbz5n2kfra8p0\\LocalCache\\local-packages\\Python311\\site-packages\\anyio\\_backends\\_asyncio.py\", line 2144, in run_sync_in_worker_thread\n",
      "    return await future\n",
      "           ^^^^^^^^^^^^\n",
      "  File \"C:\\Users\\Administrator\\AppData\\Local\\Packages\\PythonSoftwareFoundation.Python.3.11_qbz5n2kfra8p0\\LocalCache\\local-packages\\Python311\\site-packages\\anyio\\_backends\\_asyncio.py\", line 851, in run\n",
      "    result = context.run(func, *args)\n",
      "             ^^^^^^^^^^^^^^^^^^^^^^^^\n",
      "  File \"C:\\Users\\Administrator\\AppData\\Local\\Temp\\ipykernel_27300\\665534224.py\", line 7, in chat\n",
      "    return chain.invoke({\"message\": message, \"history\": history_langchain_format})\n",
      "           ^^^^^^^^^^^^^^^^^^^^^^^^^^^^^^^^^^^^^^^^^^^^^^^^^^^^^^^^^^^^^^^^^^^^^^^\n",
      "  File \"C:\\Users\\Administrator\\AppData\\Local\\Packages\\PythonSoftwareFoundation.Python.3.11_qbz5n2kfra8p0\\LocalCache\\local-packages\\Python311\\site-packages\\langchain_core\\runnables\\base.py\", line 2499, in invoke\n",
      "    input = step.invoke(\n",
      "            ^^^^^^^^^^^^\n",
      "  File \"C:\\Users\\Administrator\\AppData\\Local\\Packages\\PythonSoftwareFoundation.Python.3.11_qbz5n2kfra8p0\\LocalCache\\local-packages\\Python311\\site-packages\\langchain_core\\prompts\\base.py\", line 128, in invoke\n",
      "    return self._call_with_config(\n",
      "           ^^^^^^^^^^^^^^^^^^^^^^^\n",
      "  File \"C:\\Users\\Administrator\\AppData\\Local\\Packages\\PythonSoftwareFoundation.Python.3.11_qbz5n2kfra8p0\\LocalCache\\local-packages\\Python311\\site-packages\\langchain_core\\runnables\\base.py\", line 1626, in _call_with_config\n",
      "    context.run(\n",
      "  File \"C:\\Users\\Administrator\\AppData\\Local\\Packages\\PythonSoftwareFoundation.Python.3.11_qbz5n2kfra8p0\\LocalCache\\local-packages\\Python311\\site-packages\\langchain_core\\runnables\\config.py\", line 347, in call_func_with_variable_args\n",
      "    return func(input, **kwargs)  # type: ignore[call-arg]\n",
      "           ^^^^^^^^^^^^^^^^^^^^^\n",
      "  File \"C:\\Users\\Administrator\\AppData\\Local\\Packages\\PythonSoftwareFoundation.Python.3.11_qbz5n2kfra8p0\\LocalCache\\local-packages\\Python311\\site-packages\\langchain_core\\prompts\\base.py\", line 111, in _format_prompt_with_error_handling\n",
      "    _inner_input = self._validate_input(inner_input)\n",
      "                   ^^^^^^^^^^^^^^^^^^^^^^^^^^^^^^^^^\n",
      "  File \"C:\\Users\\Administrator\\AppData\\Local\\Packages\\PythonSoftwareFoundation.Python.3.11_qbz5n2kfra8p0\\LocalCache\\local-packages\\Python311\\site-packages\\langchain_core\\prompts\\base.py\", line 103, in _validate_input\n",
      "    raise KeyError(\n",
      "KeyError: \"Input to PromptTemplate is missing variables {'Context', 'question'}.  Expected: ['Context', 'question'] Received: ['message', 'history']\"\n"
     ]
    }
   ],
   "source": [
    "if __name__ == \"__main__\":\n",
    "    demo.launch()"
   ]
  },
  {
   "cell_type": "code",
   "execution_count": 20,
   "metadata": {},
   "outputs": [
    {
     "data": {
      "text/plain": [
       "'학생님께서 게임을 좋아하시는군요. 게임을 좋아하고 잘하시는 것은 멋진 일입니다. 게임을 취미로 즐기는 것도 좋지만, 프로게이머로 진로를 생각하고 계시다면, 프로게이머가 되기 위해 필요한 기술과 지식을 습득하는 것이 중요합니다.\\n\\n프로게이머가 되기 위해서는 게임 실력과 함께 전략적인 사고와 빠른 판단력, 그리고 팀워크 등이 필요합니다. 또한, 게임에 대한 지식과 최신 트렌드를 파악하는 것도 중요합니다.\\n\\n프로게이머로 진로를 선택하신다면, 게임 대회에 참가하거나 게임 관련 커뮤니티에 참여하여 경험을 쌓는 것도 좋은 방법입니다. 또한, 게임 관련 교육 기관이나 학원을 찾아보는 것도 도움이 될 수 있습니다.\\n\\n게임을 좋아하고 잘하시는 학생님께서는 프로게이머로 진로를 선택하신다면, 많은 가능성을 가지고 계실 것입니다. 하지만, 게임 외에도 다양한 진로가 있으니, 다른 분야에도 관심을 가지고 탐색해보시는 것도 좋은 방법입니다.\\n\\n학생님의 진로를 응원하며, 언제든지 도움이 필요하시면 말씀해주세요.'"
      ]
     },
     "execution_count": 20,
     "metadata": {},
     "output_type": "execute_result"
    }
   ],
   "source": [
    "chain.invoke({\"question\": \"저는 게임을 좋아해요.\", \"Context\": result_docs})"
   ]
  },
  {
   "cell_type": "markdown",
   "metadata": {},
   "source": [
    "# Excercise: Hybrid\n",
    "Sometimes keyword search can be useful. Design a system that does keyword and semantic search, then combine the results. Use them as context for your RAG."
   ]
  },
  {
   "cell_type": "code",
   "execution_count": null,
   "metadata": {},
   "outputs": [],
   "source": []
  },
  {
   "cell_type": "markdown",
   "metadata": {},
   "source": []
  }
 ],
 "metadata": {
  "kernelspec": {
   "display_name": "Python 3.9.19 ('solar_new')",
   "language": "python",
   "name": "python3"
  },
  "language_info": {
   "codemirror_mode": {
    "name": "ipython",
    "version": 3
   },
   "file_extension": ".py",
   "mimetype": "text/x-python",
   "name": "python",
   "nbconvert_exporter": "python",
   "pygments_lexer": "ipython3",
   "version": "3.11.9"
  },
  "vscode": {
   "interpreter": {
    "hash": "eb2addc7cc1c85d6e0512639ebc73439f9ea1829038d716cb80b7ab32055227e"
   }
  }
 },
 "nbformat": 4,
 "nbformat_minor": 2
}
